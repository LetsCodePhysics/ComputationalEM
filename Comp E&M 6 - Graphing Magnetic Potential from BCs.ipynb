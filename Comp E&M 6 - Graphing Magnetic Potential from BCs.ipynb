{
 "cells": [
  {
   "cell_type": "code",
   "execution_count": 6,
   "metadata": {},
   "outputs": [],
   "source": [
    "# Import from libraries.\n",
    "from numpy import empty, zeros, max, linspace, meshgrid, sin, cos # Import any other math functions you need here.\n",
    "import matplotlib.pyplot as plt\n",
    "from mpl_toolkits.mplot3d import Axes3D\n",
    "import matplotlib.pyplot as plt\n",
    "from matplotlib import cm\n",
    "\n",
    "# Current density function.\n",
    "def J(x,y):\n",
    "    J = zeros(2,float)\n",
    "    J[0] = 0 # Function for J_x\n",
    "    J[1] = 0 # Function for J_y\n",
    "    return J\n"
   ]
  },
  {
   "cell_type": "code",
   "execution_count": 7,
   "metadata": {},
   "outputs": [
    {
     "name": "stdout",
     "output_type": "stream",
     "text": [
      "Finished. Execute the next cell to graph.\n"
     ]
    }
   ],
   "source": [
    "# Set constants.\n",
    "M = 100 # Number of grid squares on a side.\n",
    "Atop = ([1.0,1.0]) # Magnetic potential at top boundary.\n",
    "Abottom = ([-1.0,1.0]) # Magnetic potential at bottom boundary.\n",
    "Aleft = ([0.0,-0.5]) # Magnetic potential at left boundary.\n",
    "Aright = ([0.0,-0.5]) # Magnetic potential at right boundary.\n",
    "\n",
    "xmin = 0 # Starting value of x & y.\n",
    "xmax = 10 # Ending value of x & y.\n",
    "dx = (xmax-xmin)/M # Step size. Don't need to change.\n",
    "\n",
    "# Create arrays to hold potential values and points.\n",
    "# A has two lists: The x-components of the magnetic potential,\n",
    "# and the y-components of the magnetic potential. \n",
    "# It stores this information like so:\n",
    "# A[k][i][j] is the kth-component (k = 0 means x, k = 1 means y)\n",
    "# of A at the point(xlist[i],ylist[j])\n",
    "A = zeros([2,M+1,M+1],float) # Current guess for potential.\n",
    "Aprime = empty([2,M+1,M+1],float) # Next guess for potential.\n",
    "xlist = linspace(xmin,xmax,M+1) # List of x-coordinates.\n",
    "ylist = linspace(xmin,xmax,M+1) # List of y-coordinates.\n",
    "\n",
    "# Set constant boundary conditions.\n",
    "# Left edge, where i = 0 is fixed.\n",
    "A[0,0,:] = Aleft[0]\n",
    "A[1,0,:] = Aleft[1]\n",
    "# Right edge, where i = M is fixed.\n",
    "A[0,M,:] = Aright[0]\n",
    "A[1,M,:] = Aright[1]\n",
    "# Bottom edge, where j = 0 is fixed.\n",
    "A[0,:,0] = Abottom[0]\n",
    "A[1,:,0] = Abottom[1]\n",
    "# Top edge, where j = M is fixed.\n",
    "A[0,:,M] = Atop[0]\n",
    "A[1,:,M] = Atop[1]\n",
    "\n",
    "# If you need to set up a funciton along one of the edges,\n",
    "# follow this example. It sets up A(1,x,0) = xmax*x-x**2 along \n",
    "# the bottom edge. This is just a function picked for demonstration.\n",
    "# Use A[k,i,0] for the bottom edge, A[k,i,M] for the top edge,\n",
    "# A[k,0,j] for the left edge, and A[k,M,j] for the right edge.\n",
    "for i in range(0,M+1):\n",
    "    A[0,i,M] = sin(xlist[i])\n",
    "    A[1,i,M] = cos(xlist[i])\n",
    "#     A[0,i,0] = 0.0\n",
    "#     A[1,i,0] = (xmax*xlist[i]-xlist[i]**2)*4/xmax**2\n",
    "\n",
    "target = 1e-3*max(abs(A)) # Target accuracy, scaled by problem.\n",
    "\n",
    "# Main loop\n",
    "delta = 1.0 # Current error between A and Aprime.\n",
    "while delta > target: # Repeat until error is lower than target accuracy.\n",
    "    # Calculate new values of the potential.\n",
    "    for k in range(0,2):\n",
    "        for i in range(M+1):\n",
    "            for j in range(M+1):\n",
    "                if i==0 or i==M or j==0 or j==M: # Endpoitns stay fixed.\n",
    "                    Aprime[k,i,j] = A[k,i,j]\n",
    "                else:\n",
    "                    # Calculate next guess based on difference equation.\n",
    "                    Aprime[k,i,j] = (A[k,i+1,j]+A[k,i-1,j]+A[k,i,j+1]+A[k,i,j-1])/4 + dx**2/4*J(xlist[i],ylist[j])[k]\n",
    "    # Calculate maximum difference from old values.\n",
    "    delta = max(abs(A-Aprime))\n",
    "    # Swap the two arrays.\n",
    "    A,Aprime = Aprime,A\n",
    "\n",
    "# Find the maximum magnetic potential component to scale arrows in the graph.\n",
    "Amax = max(abs(A))\n",
    "    \n",
    "print(\"Finished. Execute the next cell to graph.\")\n"
   ]
  },
  {
   "cell_type": "code",
   "execution_count": 8,
   "metadata": {},
   "outputs": [
    {
     "data": {
      "image/png": "[encoded data removed]",
      "text/plain": [
       "<Figure size 432x288 with 1 Axes>"
      ]
     },
     "metadata": {},
     "output_type": "display_data"
    }
   ],
   "source": [
    "# Graph the magnetic vector potential.\n",
    "\n",
    "# Set visual scale factors. Adjust as necessary to make magnetic vector potential visible.\n",
    "arrow_length_scale_factor = 10 # Increase to make arrows longer.\n",
    "arrow_head_scale_factor = 1 # Increase to make arrowheads larger.\n",
    "arrow_skip = 10 # Increase to show fewer arrows.\n",
    "\n",
    "Ascale = dx/Amax*arrow_length_scale_factor\n",
    "A_fig = plt.figure()\n",
    "A_ax = A_fig.add_subplot()\n",
    "plt.xlim(xmin,xmax)\n",
    "plt.ylim(xmin,xmax)\n",
    "for i in range(0,len(xlist),arrow_skip):\n",
    "    for j in range(0,len(ylist),arrow_skip):\n",
    "        plt.arrow(xlist[i],ylist[j],A[0][i][j]*Ascale,A[1][i][j]*Ascale,head_width=dx*arrow_head_scale_factor)"
   ]
  },
  {
   "cell_type": "code",
   "execution_count": null,
   "metadata": {},
   "outputs": [],
   "source": []
  }
 ],
 "metadata": {
  "kernelspec": {
   "display_name": "Python 3",
   "language": "python",
   "name": "python3"
  },
  "language_info": {
   "codemirror_mode": {
    "name": "ipython",
    "version": 3
   },
   "file_extension": ".py",
   "mimetype": "text/x-python",
   "name": "python",
   "nbconvert_exporter": "python",
   "pygments_lexer": "ipython3",
   "version": "3.6.8"
  }
 },
 "nbformat": 4,
 "nbformat_minor": 4
}
